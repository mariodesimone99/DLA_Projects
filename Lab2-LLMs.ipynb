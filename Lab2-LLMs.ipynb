{
 "cells": [
  {
   "cell_type": "markdown",
   "id": "0f5d0b9d-7980-4d2c-8154-c07a5f8b5525",
   "metadata": {},
   "source": [
    "# Introduction\n",
    "In this laboratory we will get our hands dirty working with Large Language Models (e.g. GPT and BERT) to do various useful things. I you haven't already, it is highly recommended to:\n",
    "\n",
    "+ Read the [Attention is All you Need](https://arxiv.org/abs/1706.03762) paper, which is the basis for all transformer-based LLMs.\n",
    "+ Watch (and potentially *code along*) with this [Andrej Karpathy video](https://www.youtube.com/watch?v=kCc8FmEb1nY) which shows you how to build an autoregressive GPT model from the ground up.\n",
    "\n",
    "# Exercise 1: Warming Up\n",
    "In this first exercise you will train a *small* autoregressive GPT model for character generation (the one used by Karpathy in his video) to generate text in the style of Dante Aligheri. Use [this file](https://archive.org/stream/ladivinacommedia00997gut/1ddcd09.txt), which contains the entire text of Dante's Inferno (**note**: you will have to delete some introductory text at the top of the file before training). Train the model for a few epochs, monitor the loss, and generate some text at the end of training. Qualitatively evaluate the results \n",
    "\n",
    "# Exercise 2: Working with Real LLMs\n",
    "\n",
    "Our toy GPT can only take us so far. In this exercise we will see how to use the [Hugging Face](https://huggingface.co/) model and dataset ecosystem to access a *huge* variety of pre-trained transformer models.\n",
    "\n",
    "## Exercise 2.1: Installation and text tokenization\n",
    "\n",
    "First things first, we need to install the [Hugging Face transformer library](https://huggingface.co/docs/transformers/index):\n",
    "\n",
    "    conda install -c huggingface -c conda-forge transformers\n",
    "    \n",
    "The key classes that you will work with are `GPT2Tokenizer` to encode text into sub-word tokens, and the `GPT2LMHeadModel`. **Note** the `LMHead` part of the class name -- this is the version of the GPT2 architecture that has the text prediction heads attached to the final hidden layer representations (i.e. what we need to **generate** text). \n",
    "\n",
    "Instantiate the `GPT2Tokenizer` and experiment with encoding text into integer tokens. Compare the length of input with the encoded sequence length.\n",
    "\n",
    "**Tip**: Pass the `return_tensors='pt'` argument to the togenizer to get Pytorch tensors as output (instead of lists).\n",
    "\n",
    "## Exercise 2.2: Generating Text\n",
    "\n",
    "There are a lot of ways we can, given a *prompt* in input, sample text from a GPT2 model. Instantiate a pre-trained `GPT2LMHeadModel` and use the [`generate()`](https://huggingface.co/docs/transformers/v4.27.2/en/main_classes/text_generation#transformers.GenerationMixin.generate) method to generate text from a prompt.\n",
    "\n",
    "**Note**: The default inference mode for GPT2 is *greedy* which might not results in satisfying generated text. Look at the `do_sample` and `temperature` parameters.\n",
    "\n",
    "# Exercise 3: Reusing Pre-trained LLMs (choose one)\n",
    "\n",
    "Choose **one** of the following exercises (well, *at least* one). In each of these you are asked to adapt a pre-trained LLM (`GPT2Model` or `DistillBERT` are two good choices) to a new Natural Language Understanding task. A few comments:\n",
    "\n",
    "+ Since GPT2 is a *autoregressive* model, there is no latent space aggregation at the last transformer layer (you get the same number of tokens out that you give in input). To use a pre-trained model for a classification or retrieval task, you should aggregate these tokens somehow (or opportunistically select *one* to use).\n",
    "\n",
    "+ BERT models (including DistillBERT) have a special [CLS] token prepended to each latent representation in output from a self-attention block. You can directly use this as a representation for classification (or retrieval).\n",
    "\n",
    "+ The first *two* exercises below can probably be done *without* any fine-tuning -- that is, just training a shallow MLP to classify or represent with the appropriate loss function.\n",
    "\n",
    "# Exercise 3.1: Training a Text Classifier (easy)\n",
    "\n",
    "Peruse the [text classification datasets on Hugging Face](https://huggingface.co/datasets?task_categories=task_categories:text-classification&sort=downloads). Choose a *moderately* sized dataset and use a LLM to train a classifier to solve the problem.\n",
    "\n",
    "**Note**: A good first baseline for this problem is certainly to use an LLM *exclusively* as a feature extractor and then train a shallow model.\n",
    "\n",
    "# Exercise 3.2: Training a Question Answering Model (harder)\n",
    "\n",
    "Peruse the [multiple choice question answering datasets on Hugging Face](https://huggingface.co/datasets?task_categories=task_categories:multiple-choice&sort=downloads). Chose a *moderately* sized one and train a model to answer contextualized multiple-choice questions. You *might* be able to avoid fine-tuning by training a simple model to *rank* the multiple choices (see margin ranking loss in Pytorch).\n",
    "\n",
    "# Exercise 3.3: Training a Retrieval Model (hardest)\n",
    "\n",
    "The Hugging Face dataset repository contains a large number of [\"text retrieval\" problems](https://huggingface.co/datasets?task_categories=task_categories:text-retrieval&p=1&sort=downloads). These tasks generally require that the model measure *similarity* between text in some metric space -- naively, just a cosine similarity between [CLS] tokens can get you pretty far. Find an interesting retrieval problem and train a model (starting from a pre-trained LLM of course) to solve it.\n",
    "\n",
    "**Tip**: Sometimes identifying the *retrieval* problems in these datasets can be half the challenge. [This dataset](https://huggingface.co/datasets/BeIR/scifact) might be a good starting point."
   ]
  },
  {
   "cell_type": "markdown",
   "id": "ee3324be",
   "metadata": {},
   "source": [
    "## Import Libraries"
   ]
  },
  {
   "cell_type": "code",
   "execution_count": 1,
   "id": "0eb4678d",
   "metadata": {},
   "outputs": [],
   "source": [
    "import torch\n",
    "import torch.nn as nn\n",
    "from torch.nn import functional as F"
   ]
  },
  {
   "cell_type": "markdown",
   "id": "707be839",
   "metadata": {},
   "source": [
    "## Hyperparameters"
   ]
  },
  {
   "cell_type": "code",
   "execution_count": 2,
   "id": "3e5c7bd5",
   "metadata": {},
   "outputs": [
    {
     "name": "stdout",
     "output_type": "stream",
     "text": [
      "Using device: cuda\n"
     ]
    }
   ],
   "source": [
    "BATCH_SIZE = 16\n",
    "BLOCK_SIZE = 256\n",
    "EPOCHS = 10\n",
    "N_EMBD = 512\n",
    "N_HEAD = 6\n",
    "N_LAYER = 6\n",
    "LEARNING_RATE = 1e-4\n",
    "DEVICE = 'cuda' if torch.cuda.is_available() else 'cpu'\n",
    "print(f\"Using device: {DEVICE}\")"
   ]
  },
  {
   "cell_type": "markdown",
   "id": "cba0f908",
   "metadata": {},
   "source": [
    "## Loading data"
   ]
  },
  {
   "cell_type": "code",
   "execution_count": 3,
   "id": "89e3664a",
   "metadata": {},
   "outputs": [],
   "source": [
    "class InfernoDataset(torch.utils.data.Dataset):\n",
    "    def __init__(self, block_size, path='dante_inferno.txt', split='train'):\n",
    "        with open(path, 'r') as f:\n",
    "            text = f.read()\n",
    "            text = list(text)\n",
    "            if split == 'train':\n",
    "                self.text = text[:int(len(text)*0.9)]\n",
    "            elif split == 'val':\n",
    "                self.text = text[int(len(text)*0.9):]\n",
    "            else:\n",
    "                raise ValueError(\"split must be 'train' or 'val'\")\n",
    "            self.block_size = block_size\n",
    "            self.vocab_size = len(set(self.text))\n",
    "            self.stoi = { ch:i for i,ch in enumerate(set(self.text)) }\n",
    "            self.itos = { i:ch for i,ch in enumerate(set(self.text)) }\n",
    "            self.data = torch.tensor([self.stoi[c] for c in self.text], dtype=torch.long)\n",
    "            self.split = split\n",
    "            self.train_size = int(0.9 * len(self.data))\n",
    "\n",
    "    def __len__(self):\n",
    "        return len(self.data) - self.block_size\n",
    "\n",
    "    def __getitem__(self, idx):\n",
    "        x = self.data[idx:idx+self.block_size] if idx + self.block_size < len(self.data) else self.data[idx:]\n",
    "        return x\n",
    "    \n",
    "    def encode(self, text):\n",
    "        return torch.tensor([self.stoi[c] for c in text], dtype=torch.long)\n",
    "    \n",
    "    def decode(self, indices):\n",
    "        return ''.join([self.itos[i.item()] for i in indices])\n",
    "    \n",
    "def GetBatch(dataset, batch_size, device):\n",
    "    idx = torch.randint(len(dataset), (batch_size,))\n",
    "    x = torch.stack([dataset.data[i:i+BLOCK_SIZE] for i in idx])\n",
    "    y = torch.stack([dataset.data[i+1:i+BLOCK_SIZE+1] for i in idx])\n",
    "    x, y = x.to(device), y.to(device)\n",
    "    return x, y"
   ]
  },
  {
   "cell_type": "code",
   "execution_count": 4,
   "id": "08c245c1",
   "metadata": {},
   "outputs": [
    {
     "name": "stdout",
     "output_type": "stream",
     "text": [
      "torch.Size([16, 256])\n",
      "tensor([21, 15,  0, 55, 24, 24, 22, 48,  0, 25, 47, 53, 40, 27, 53, 25, 40, 21,\n",
      "        15, 53, 45, 52,  2, 31, 40,  2, 40, 22, 48,  0, 25, 47, 53, 40, 27, 53,\n",
      "        25, 40, 27,  0, 45, 42,  0, 25,  2, 31, 24, 40, 40, 27, 53, 25, 40, 21,\n",
      "         0, 45, 52, 48, 15, 12, 40,  2, 40, 27, 53, 25, 40, 27,  2, 25, 25, 12,\n",
      "        40, 47, 12, 40, 27,  0, 26, 21,  2, 36, 36,  0, 31, 24, 40, 40,  2, 40,\n",
      "        27, 53, 25, 40, 27, 53, 26,  2, 40, 25, 53, 26, 21, 15,  0, 36, 12, 40,\n",
      "         2, 40, 27, 53, 25, 40, 12, 26, 21, 15,  0, 25,  2, 55, 24, 24, 25,  2,\n",
      "        38, 40, 35, 12,  0, 54, 40, 27, 53, 25, 40, 26, 12, 54, 40, 47, 12, 41,\n",
      "         2, 15, 26,  0, 40, 27,  2, 25, 25,  0, 45,  2, 36, 36,  0, 24, 40, 40,\n",
      "        27,  0, 41,  0, 36, 12,  2, 15, 40, 41, 12, 47, 12, 40, 45, 48, 53, 41,\n",
      "         2, 15, 40, 25,  2, 38, 40, 42,  2, 47, 53, 25, 12, 31, 24, 40, 40, 25,\n",
      "         2, 38, 40, 25,  0, 41,  2, 40,  0, 40, 26,  2, 35, 25, 53, 40, 47, 12,\n",
      "        40, 21,  2, 15, 15,  0, 40, 53, 40, 47, 12, 40, 26, 21,  2, 36, 36,  0,\n",
      "        18, 24, 24,  4, 53, 12, 40,  0, 25, 47,  0, 41,  0, 45, 40, 27, 53, 25,\n",
      "        40, 36, 12, 40], device='cuda:0')\n",
      "tra;\n",
      "\n",
      "quando con trombe, e quando con campane,\n",
      "  con tamburi e con cenni di castella,\n",
      "  e con cose nostrali e con istrane;\n",
      "\n",
      "ne' gia` con si` diversa cennamella\n",
      "  cavalier vidi muover ne' pedoni,\n",
      "  ne' nave a segno di terra o di stella.\n",
      "\n",
      "Noi andavam con li \n",
      "torch.Size([16, 256])\n",
      "tensor([15,  0, 55, 24, 24, 22, 48,  0, 25, 47, 53, 40, 27, 53, 25, 40, 21, 15,\n",
      "        53, 45, 52,  2, 31, 40,  2, 40, 22, 48,  0, 25, 47, 53, 40, 27, 53, 25,\n",
      "        40, 27,  0, 45, 42,  0, 25,  2, 31, 24, 40, 40, 27, 53, 25, 40, 21,  0,\n",
      "        45, 52, 48, 15, 12, 40,  2, 40, 27, 53, 25, 40, 27,  2, 25, 25, 12, 40,\n",
      "        47, 12, 40, 27,  0, 26, 21,  2, 36, 36,  0, 31, 24, 40, 40,  2, 40, 27,\n",
      "        53, 25, 40, 27, 53, 26,  2, 40, 25, 53, 26, 21, 15,  0, 36, 12, 40,  2,\n",
      "        40, 27, 53, 25, 40, 12, 26, 21, 15,  0, 25,  2, 55, 24, 24, 25,  2, 38,\n",
      "        40, 35, 12,  0, 54, 40, 27, 53, 25, 40, 26, 12, 54, 40, 47, 12, 41,  2,\n",
      "        15, 26,  0, 40, 27,  2, 25, 25,  0, 45,  2, 36, 36,  0, 24, 40, 40, 27,\n",
      "         0, 41,  0, 36, 12,  2, 15, 40, 41, 12, 47, 12, 40, 45, 48, 53, 41,  2,\n",
      "        15, 40, 25,  2, 38, 40, 42,  2, 47, 53, 25, 12, 31, 24, 40, 40, 25,  2,\n",
      "        38, 40, 25,  0, 41,  2, 40,  0, 40, 26,  2, 35, 25, 53, 40, 47, 12, 40,\n",
      "        21,  2, 15, 15,  0, 40, 53, 40, 47, 12, 40, 26, 21,  2, 36, 36,  0, 18,\n",
      "        24, 24,  4, 53, 12, 40,  0, 25, 47,  0, 41,  0, 45, 40, 27, 53, 25, 40,\n",
      "        36, 12, 40, 47], device='cuda:0')\n",
      "ra;\n",
      "\n",
      "quando con trombe, e quando con campane,\n",
      "  con tamburi e con cenni di castella,\n",
      "  e con cose nostrali e con istrane;\n",
      "\n",
      "ne' gia` con si` diversa cennamella\n",
      "  cavalier vidi muover ne' pedoni,\n",
      "  ne' nave a segno di terra o di stella.\n",
      "\n",
      "Noi andavam con li d\n"
     ]
    }
   ],
   "source": [
    "dataset_train = InfernoDataset(BLOCK_SIZE, path='dante_inferno.txt', split='train')\n",
    "dataset_val = InfernoDataset(BLOCK_SIZE, path='dante_inferno.txt', split='val')\n",
    "x, y = GetBatch(dataset_train, BATCH_SIZE, device=DEVICE)\n",
    "print(x.shape)\n",
    "print(x[0, :])\n",
    "print(dataset_train.decode(x[0, :]))\n",
    "print(y.shape)\n",
    "print(y[0, :])\n",
    "print(dataset_train.decode(y[0, :]))"
   ]
  },
  {
   "cell_type": "markdown",
   "id": "735dea6d",
   "metadata": {},
   "source": [
    "## Toy GPT Model"
   ]
  },
  {
   "cell_type": "code",
   "execution_count": null,
   "id": "637160d7",
   "metadata": {},
   "outputs": [],
   "source": [
    "class LinearLayer(nn.Module):\n",
    "    def __init__(self, in_features, mid_features, out_features, dropout=0.2):\n",
    "        super().__init__()\n",
    "        self.net = nn.Sequential(\n",
    "            nn.Linear(in_features, mid_features),\n",
    "            nn.ReLU(),\n",
    "            nn.Linear(mid_features, out_features),\n",
    "            nn.Dropout(dropout),\n",
    "        )\n",
    "\n",
    "    def forward(self, x):\n",
    "        return self.net(x)\n",
    "\n",
    "class Attention_Head(nn.Module):\n",
    "\n",
    "    def __init__(self, d_model, d_k, dropout=0.2):\n",
    "        super().__init__()\n",
    "        self.key = nn.Linear(d_model, d_k, bias=False)\n",
    "        self.query = nn.Linear(d_model, d_k, bias=False)\n",
    "        self.value = nn.Linear(d_model, d_k, bias=False)\n",
    "        self.register_buffer(\"tril\", torch.tril(torch.ones(BLOCK_SIZE, BLOCK_SIZE)))\n",
    "        self.d_k = d_k\n",
    "        self.dropout = nn.Dropout(dropout)\n",
    "\n",
    "    def forward(self, x):\n",
    "        # input of size (batch, channels, time-step)\n",
    "        # output of size (batch, time-step, d_k)\n",
    "        k = self.key(x)   # (B, T, d_k)\n",
    "        q = self.query(x) # (B, T, d_k)\n",
    "\n",
    "        w = torch.matmul(q, k.transpose(-2, -1)) # (B, T, d_k) @ (B, d_k, T) -> (B, T, T)\n",
    "        w = w / (self.d_k**0.5)\n",
    "        w = F.softmax(w, dim=-1) # (B, T, T)\n",
    "        w = self.dropout(w) # (B, T, T)\n",
    "        v = self.value(x) # (B, T, d_k)\n",
    "        out = w @ v\n",
    "        return out\n",
    "\n",
    "class MultiHeadAttention(nn.Module):\n",
    "    def __init__(self, num_heads, d_model, d_k, dropout=0.2):\n",
    "        super().__init__()\n",
    "        self.heads = nn.ModuleList([Attention_Head(d_model, d_k) for _ in range(num_heads)])\n",
    "        self.proj = nn.Linear(d_k * num_heads, d_model)\n",
    "        self.dropout = nn.Dropout(dropout)\n",
    "\n",
    "    def forward(self, x):\n",
    "        out = torch.cat([h(x) for h in self.heads], dim=-1) # (B, T, d_k * num_heads)\n",
    "        out = self.dropout(self.proj(out))\n",
    "        return out\n",
    "\n",
    "class FeedForward(nn.Module):\n",
    "\n",
    "    def __init__(self, n_embd, dropout=0.2):\n",
    "        super().__init__()\n",
    "        self.net = nn.Sequential(\n",
    "            nn.Linear(n_embd, 4 * n_embd),\n",
    "            nn.ReLU(),\n",
    "            nn.Linear(4 * n_embd, n_embd),\n",
    "            nn.Dropout(dropout),\n",
    "        )\n",
    "\n",
    "    def forward(self, x):\n",
    "        return self.net(x)\n",
    "\n",
    "class AddAndNorm(nn.Module):\n",
    "    def __init__(self, mod, size):\n",
    "        super().__init__()\n",
    "        self.mod = mod\n",
    "        self.ln = nn.LayerNorm(size)\n",
    "\n",
    "    def forward(self, x):\n",
    "        return x + self.mod(self.ln(x))\n",
    "\n",
    "class TransformerBlock(nn.Module):\n",
    "    def __init__(self, n_embd, n_head, dropout=0.2):\n",
    "        # n_embd: embedding dimension, n_head: the number of heads we'd like\n",
    "        super().__init__()\n",
    "        head_size = n_embd // n_head\n",
    "        self.multi_att = AddAndNorm(MultiHeadAttention(n_head, n_embd, head_size, dropout), n_embd)\n",
    "        self.ffwd = AddAndNorm(FeedForward(n_embd, dropout), n_embd)\n",
    "\n",
    "    def forward(self, x):\n",
    "        out = self.multi_att(x)\n",
    "        out = self.ffwd(out)\n",
    "        return out\n",
    "        \n",
    "\n",
    "class GPT(nn.Module):\n",
    "    def __init__(self, dict_size, n_embd, block_size, n_layer, n_head, device, dropout=0.2):\n",
    "        super().__init__()\n",
    "        self.token_embedding_table = nn.Embedding(dict_size, n_embd)\n",
    "        self.position_embedding_table = nn.Embedding(block_size, n_embd)\n",
    "        self.blocks = nn.Sequential(*[TransformerBlock(n_embd, n_head, dropout=dropout) for _ in range(n_layer)])\n",
    "        self.ln_f = nn.LayerNorm(n_embd) \n",
    "        self.lm_head = LinearLayer(n_embd, n_embd, dict_size, dropout=dropout)\n",
    "        self.device = device\n",
    "        self.block_size = block_size\n",
    "        self.n_embd = n_embd\n",
    "        self.n_layer = n_layer\n",
    "        self.n_head = n_head\n",
    "\n",
    "    def forward(self, idx):\n",
    "        B, T = idx.shape\n",
    "\n",
    "        # idx and targets are both (B,T) tensor of integers\n",
    "        tok_emb = self.token_embedding_table(idx) # (B,T,C)\n",
    "        pos_emb = self.position_embedding_table(torch.arange(T, device=self.device)) # (T,C)\n",
    "        x = tok_emb + pos_emb # (B,T,C)\n",
    "        x = self.blocks(x) # (B,T,C)\n",
    "        x = self.ln_f(x) # (B,T,C)\n",
    "        logits = self.lm_head(x) # (B,T,vocab_size)\n",
    "\n",
    "        return logits #, loss\n",
    "\n",
    "    def generate(self, idx, max_new_tokens):\n",
    "        # idx is (B, T) array of indices in the current context\n",
    "        for _ in range(max_new_tokens):\n",
    "            # crop idx to the last block_size tokens\n",
    "            idx_cond = idx[:, -self.block_size:]\n",
    "            # get the predictions\n",
    "            logits = self(idx_cond)\n",
    "            # focus only on the last time step\n",
    "            logits = logits[:, -1, :] # becomes (B, C)\n",
    "            # apply softmax to get probabilities\n",
    "            probs = F.softmax(logits, dim=-1) # (B, C)\n",
    "            # sample from the distribution\n",
    "            idx_next = torch.multinomial(probs, num_samples=1) # (B, 1)\n",
    "            # append sampled index to the running sequence\n",
    "            idx = torch.cat((idx, idx_next), dim=1) # (B, T+1)\n",
    "        return idx"
   ]
  },
  {
   "cell_type": "markdown",
   "id": "a93bc720",
   "metadata": {},
   "source": [
    "## Training Pipeline"
   ]
  },
  {
   "cell_type": "code",
   "execution_count": 14,
   "id": "10b4a9f2",
   "metadata": {},
   "outputs": [
    {
     "name": "stdout",
     "output_type": "stream",
     "text": [
      "19.333689 M parameters\n",
      "Epoch 0: train_loss = 4.0546, val_loss = 4.0658\n",
      "Epoch 50: train_loss = 2.7874, val_loss = 4.8281\n",
      "Epoch 100: train_loss = 2.7060, val_loss = 5.1059\n",
      "Epoch 150: train_loss = 2.6788, val_loss = 5.3634\n",
      "Epoch 200: train_loss = 2.6494, val_loss = 5.5397\n",
      "Epoch 250: train_loss = 2.6282, val_loss = 5.6641\n",
      "Epoch 300: train_loss = 2.6088, val_loss = 5.7921\n",
      "Epoch 350: train_loss = 2.6633, val_loss = 5.6813\n",
      "Epoch 400: train_loss = 2.6318, val_loss = 5.7574\n",
      "Epoch 450: train_loss = 2.5937, val_loss = 5.8116\n"
     ]
    }
   ],
   "source": [
    "model = GPT(dict_size=dataset_train.vocab_size, n_embd=N_EMBD, block_size=BLOCK_SIZE, n_layer=N_LAYER, n_head=N_HEAD, device=DEVICE)\n",
    "m = model.to(DEVICE)\n",
    "\n",
    "# print the number of parameters in the model\n",
    "print(sum(p.numel() for p in m.parameters())/1e6, 'M parameters')\n",
    "\n",
    "optimizer = torch.optim.AdamW(model.parameters(), lr=1e-4)\n",
    "loss_fn = F.cross_entropy\n",
    "check = 50\n",
    "for epoch in range(500):\n",
    "    model.train()\n",
    "    x, y = GetBatch(dataset_train, BATCH_SIZE, device=DEVICE)\n",
    "    logits = model(x)\n",
    "    loss = loss_fn(logits.view(-1, dataset_train.vocab_size), y.view(-1))\n",
    "    optimizer.zero_grad()\n",
    "    loss.backward()\n",
    "    optimizer.step()\n",
    "    if epoch % check == 0:\n",
    "        x_val, y_val = GetBatch(dataset_val, BATCH_SIZE, device=DEVICE)\n",
    "        with torch.no_grad():\n",
    "            model.eval()\n",
    "            logits_val = model(x_val)\n",
    "            loss_val = loss_fn(logits_val.view(-1, dataset_train.vocab_size), y_val.view(-1))\n",
    "            print(f\"Epoch {epoch}: train_loss = {loss.item():.4f}, val_loss = {loss_val.item():.4f}\")\n",
    "torch.save(model.state_dict(), 'gpt_inferno.pth')"
   ]
  },
  {
   "cell_type": "code",
   "execution_count": 10,
   "id": "2acf251b",
   "metadata": {},
   "outputs": [
    {
     "data": {
      "text/plain": [
       "<All keys matched successfully>"
      ]
     },
     "execution_count": 10,
     "metadata": {},
     "output_type": "execute_result"
    }
   ],
   "source": [
    "model = GPT(dict_size=dataset_train.vocab_size, n_embd=N_EMBD, block_size=BLOCK_SIZE, n_layer=N_LAYER, n_head=N_HEAD, device=DEVICE)\n",
    "model.load_state_dict(torch.load('gpt_inferno.pth'))"
   ]
  },
  {
   "cell_type": "code",
   "execution_count": 15,
   "id": "ea857ccf",
   "metadata": {},
   "outputs": [
    {
     "name": "stdout",
     "output_type": "stream",
     "text": [
      "Generated text:\n",
      "aaaaadaa,ascalaacarbalacalalaquaa aagna asa,aalava palosaQacacasa,zalaaavapabapiappaza <anana,anaganaballsacaa pa a ana a lala`a  dmagoimala  a ialo.agaia va'anauaraga lagasia\n",
      "talasbanalanava a\n",
      "'a\n",
      " 'anaLasa ra tIfa ana e ota la a,a cati Ma\n",
      "a -apa 'XaMala,a dalanala ltanvata a mia\n",
      " \n",
      " amasenarappata'a a'ara ma\n",
      " alta\n",
      "Cra Ganamvara mavamia\n",
      "\n",
      "Tarada la,calgrama, madana M'o,\n",
      "  iarabapalada  liauovadarava ralpedpa  :ala, alam'zila,aba\n",
      "Lalda vzazagvanacgguanta uararalaga ga.\n",
      "\n",
      "\n",
      "cava;a ualagPa e'lla\n",
      "\n",
      "ui cea\n"
     ]
    }
   ],
   "source": [
    "init_context = torch.zeros((1,1), dtype=torch.long, device=DEVICE)\n",
    "max_tokens = 500\n",
    "m.eval()\n",
    "new_text = m.generate(init_context, max_new_tokens=max_tokens)\n",
    "print(\"Generated text:\")\n",
    "print(dataset_train.decode(new_text[0, :]))"
   ]
  },
  {
   "cell_type": "markdown",
   "id": "30506687",
   "metadata": {},
   "source": [
    "As we can notice the model does not have good performance, the generated text is chaotic, one thing I noticed is the fact that if I try to train with some other epochs, the model overfits causing the generated text to be composed by a single repeated letter because the output probability distribution is peaked.\n",
    "\n",
    "To reach better performances non-toy models should be used, let's take a look to Hugging Face models."
   ]
  },
  {
   "cell_type": "markdown",
   "id": "ac55c896",
   "metadata": {},
   "source": [
    "# Hugginface Models"
   ]
  },
  {
   "cell_type": "markdown",
   "id": "399d4ab8",
   "metadata": {},
   "source": [
    "Let's try the tokenizer"
   ]
  },
  {
   "cell_type": "code",
   "execution_count": 51,
   "id": "af199a6d-1f3a-4b2c-a23f-d697b93c5adb",
   "metadata": {
    "tags": []
   },
   "outputs": [
    {
     "name": "stdout",
     "output_type": "stream",
     "text": [
      "tensor([[15496,   995,  5145]])\n",
      "tensor([[15496,    11,   995]])\n",
      "tensor([[18435,   995]])\n"
     ]
    }
   ],
   "source": [
    "from transformers import GPT2Tokenizer, GPT2LMHeadModel\n",
    "import matplotlib.pyplot as plt\n",
    "import numpy as np\n",
    "\n",
    "\n",
    "tokenizer = GPT2Tokenizer.from_pretrained(\"openai-community/gpt2\")\n",
    "print(tokenizer(\"Hello world !\", return_tensors=\"pt\")[\"input_ids\"])\n",
    "print(tokenizer(\"Hello, world\", return_tensors=\"pt\")[\"input_ids\"])\n",
    "print(tokenizer(\" Hello world\", return_tensors=\"pt\")[\"input_ids\"])"
   ]
  },
  {
   "cell_type": "markdown",
   "id": "6faa5316",
   "metadata": {},
   "source": [
    "From this simple example we can estabilish that the tokenizer takes into account primarily the number of words and punctuation, let's try to see a graph summarizing the magnitutde of the compression"
   ]
  },
  {
   "cell_type": "code",
   "execution_count": null,
   "id": "3a869528",
   "metadata": {},
   "outputs": [],
   "source": [
    "def encode_plot(tokenizer, string_list):\n",
    "    x = [len(string_list[i]) for i in range(len(string_list))]\n",
    "    y = [tokenizer(string_list[i], return_tensors=\"pt\")[\"input_ids\"].shape[1] for i in range(len(string_list))]\n",
    "    ratio = [y[i] / x[i] for i in range(len(x))]\n",
    "    plt.plot(x, y)\n",
    "    plt.xlabel('String Length')\n",
    "    plt.ylabel('Token Count')\n",
    "    plt.title(f'Token Count vs String Length (Ratio = {np.mean(ratio):.2f})')\n",
    "\n",
    "def generate_string_list(model, tokenizer):\n",
    "    string_list = []\n",
    "    model.to(DEVICE)\n",
    "    for i in range(10, 200, 10):\n",
    "        init_context = torch.tensor(i, dtype=torch.long, device=DEVICE).view(1, 1)\n",
    "        generated_text = tokenizer.decode(model.generate(init_context, max_new_tokens=i)[0], skip_special_tokens=True)\n",
    "        string_list.append(generated_text)\n",
    "    return string_list"
   ]
  },
  {
   "cell_type": "code",
   "execution_count": 53,
   "id": "bdad9208-cc9e-4750-baa5-f9367e71362a",
   "metadata": {
    "tags": []
   },
   "outputs": [
    {
     "name": "stderr",
     "output_type": "stream",
     "text": [
      "The attention mask and the pad token id were not set. As a consequence, you may observe unexpected behavior. Please pass your input's `attention_mask` to obtain reliable results.\n",
      "Setting `pad_token_id` to `eos_token_id`:50256 for open-end generation.\n",
      "The attention mask is not set and cannot be inferred from input because pad token is same as eos token. As a consequence, you may observe unexpected behavior. Please pass your input's `attention_mask` to obtain reliable results.\n"
     ]
    },
    {
     "name": "stdout",
     "output_type": "stream",
     "text": [
      "Hello world! What does a 'Wargaming 101' look like?\"\n",
      "\n",
      "\"A 'Wargaming 101', like any decent 'mainstream' hobbyist, you'd think. So let's see how you do it…\n",
      "\n",
      "\n"
     ]
    }
   ],
   "source": [
    "model = GPT2LMHeadModel.from_pretrained(\"openai-community/gpt2\")\n",
    "# do_sample controls whether to use sampling or greedy decoding\n",
    "# temperature modulate next token probabilites\n",
    "# top_k is the probability for filtering the vocabulary\n",
    "# top_p condition which tokens to keep for the next step (they must sum up to at least p)\n",
    "new_text_id = model.generate(\n",
    "    input_ids=tokenizer(\"Hello world\", return_tensors=\"pt\")[\"input_ids\"],\n",
    "    max_length=50,\n",
    "    do_sample=True,\n",
    "    top_k=50,\n",
    "    top_p=0.95,\n",
    "    num_return_sequences=1\n",
    ")\n",
    "new_text_str = tokenizer.decode(new_text_id[0], skip_special_tokens=True)\n",
    "print(new_text_str)"
   ]
  },
  {
   "cell_type": "code",
   "execution_count": 54,
   "id": "b5379d46",
   "metadata": {},
   "outputs": [
    {
     "name": "stderr",
     "output_type": "stream",
     "text": [
      "The attention mask and the pad token id were not set. As a consequence, you may observe unexpected behavior. Please pass your input's `attention_mask` to obtain reliable results.\n",
      "Setting `pad_token_id` to `eos_token_id`:50256 for open-end generation.\n",
      "The attention mask and the pad token id were not set. As a consequence, you may observe unexpected behavior. Please pass your input's `attention_mask` to obtain reliable results.\n",
      "Setting `pad_token_id` to `eos_token_id`:50256 for open-end generation.\n",
      "The attention mask and the pad token id were not set. As a consequence, you may observe unexpected behavior. Please pass your input's `attention_mask` to obtain reliable results.\n",
      "Setting `pad_token_id` to `eos_token_id`:50256 for open-end generation.\n",
      "The attention mask and the pad token id were not set. As a consequence, you may observe unexpected behavior. Please pass your input's `attention_mask` to obtain reliable results.\n",
      "Setting `pad_token_id` to `eos_token_id`:50256 for open-end generation.\n",
      "The attention mask and the pad token id were not set. As a consequence, you may observe unexpected behavior. Please pass your input's `attention_mask` to obtain reliable results.\n",
      "Setting `pad_token_id` to `eos_token_id`:50256 for open-end generation.\n",
      "The attention mask and the pad token id were not set. As a consequence, you may observe unexpected behavior. Please pass your input's `attention_mask` to obtain reliable results.\n",
      "Setting `pad_token_id` to `eos_token_id`:50256 for open-end generation.\n",
      "The attention mask and the pad token id were not set. As a consequence, you may observe unexpected behavior. Please pass your input's `attention_mask` to obtain reliable results.\n",
      "Setting `pad_token_id` to `eos_token_id`:50256 for open-end generation.\n",
      "The attention mask and the pad token id were not set. As a consequence, you may observe unexpected behavior. Please pass your input's `attention_mask` to obtain reliable results.\n",
      "Setting `pad_token_id` to `eos_token_id`:50256 for open-end generation.\n",
      "The attention mask and the pad token id were not set. As a consequence, you may observe unexpected behavior. Please pass your input's `attention_mask` to obtain reliable results.\n",
      "Setting `pad_token_id` to `eos_token_id`:50256 for open-end generation.\n",
      "The attention mask and the pad token id were not set. As a consequence, you may observe unexpected behavior. Please pass your input's `attention_mask` to obtain reliable results.\n",
      "Setting `pad_token_id` to `eos_token_id`:50256 for open-end generation.\n",
      "The attention mask and the pad token id were not set. As a consequence, you may observe unexpected behavior. Please pass your input's `attention_mask` to obtain reliable results.\n",
      "Setting `pad_token_id` to `eos_token_id`:50256 for open-end generation.\n",
      "The attention mask and the pad token id were not set. As a consequence, you may observe unexpected behavior. Please pass your input's `attention_mask` to obtain reliable results.\n",
      "Setting `pad_token_id` to `eos_token_id`:50256 for open-end generation.\n",
      "The attention mask and the pad token id were not set. As a consequence, you may observe unexpected behavior. Please pass your input's `attention_mask` to obtain reliable results.\n",
      "Setting `pad_token_id` to `eos_token_id`:50256 for open-end generation.\n",
      "The attention mask and the pad token id were not set. As a consequence, you may observe unexpected behavior. Please pass your input's `attention_mask` to obtain reliable results.\n",
      "Setting `pad_token_id` to `eos_token_id`:50256 for open-end generation.\n",
      "The attention mask and the pad token id were not set. As a consequence, you may observe unexpected behavior. Please pass your input's `attention_mask` to obtain reliable results.\n",
      "Setting `pad_token_id` to `eos_token_id`:50256 for open-end generation.\n",
      "The attention mask and the pad token id were not set. As a consequence, you may observe unexpected behavior. Please pass your input's `attention_mask` to obtain reliable results.\n",
      "Setting `pad_token_id` to `eos_token_id`:50256 for open-end generation.\n",
      "The attention mask and the pad token id were not set. As a consequence, you may observe unexpected behavior. Please pass your input's `attention_mask` to obtain reliable results.\n",
      "Setting `pad_token_id` to `eos_token_id`:50256 for open-end generation.\n",
      "The attention mask and the pad token id were not set. As a consequence, you may observe unexpected behavior. Please pass your input's `attention_mask` to obtain reliable results.\n",
      "Setting `pad_token_id` to `eos_token_id`:50256 for open-end generation.\n",
      "The attention mask and the pad token id were not set. As a consequence, you may observe unexpected behavior. Please pass your input's `attention_mask` to obtain reliable results.\n",
      "Setting `pad_token_id` to `eos_token_id`:50256 for open-end generation.\n"
     ]
    }
   ],
   "source": [
    "list_strings = generate_string_list(model, tokenizer)"
   ]
  },
  {
   "cell_type": "code",
   "execution_count": 55,
   "id": "f27772fa",
   "metadata": {},
   "outputs": [
    {
     "data": {
      "image/png": "[encoded data removed]",
      "text/plain": [
       "<Figure size 640x480 with 1 Axes>"
      ]
     },
     "metadata": {},
     "output_type": "display_data"
    }
   ],
   "source": [
    "encode_plot(tokenizer, list_strings)"
   ]
  },
  {
   "cell_type": "markdown",
   "id": "7aaf1bcb",
   "metadata": {},
   "source": [
    "We can notice at first glance that approximately the number of token grows linaerly with the length of the string, but clearly it is not a fixed rule, as it depends on the kind of string\n",
    "\n",
    "Now we try to play with the temperature parameter of the model"
   ]
  },
  {
   "cell_type": "code",
   "execution_count": 57,
   "id": "d31cd2dc",
   "metadata": {},
   "outputs": [
    {
     "name": "stderr",
     "output_type": "stream",
     "text": [
      "The attention mask and the pad token id were not set. As a consequence, you may observe unexpected behavior. Please pass your input's `attention_mask` to obtain reliable results.\n",
      "Setting `pad_token_id` to `eos_token_id`:50256 for open-end generation.\n",
      "The attention mask and the pad token id were not set. As a consequence, you may observe unexpected behavior. Please pass your input's `attention_mask` to obtain reliable results.\n",
      "Setting `pad_token_id` to `eos_token_id`:50256 for open-end generation.\n"
     ]
    },
    {
     "name": "stdout",
     "output_type": "stream",
     "text": [
      "\n",
      "° Generated text (temperature = 0.1):\n",
      "Some of my favorite albums are Kid A, Dark Side of the Moon, The Age of Adz, Highway 61 Revisited, and The Last Man on Earth. I'm not sure if I'm going to be able to get through all of them, but I'm going to be able to get through them.\n",
      "\n",
      "I'm not sure if I'm going to be\n"
     ]
    },
    {
     "name": "stderr",
     "output_type": "stream",
     "text": [
      "The attention mask and the pad token id were not set. As a consequence, you may observe unexpected behavior. Please pass your input's `attention_mask` to obtain reliable results.\n",
      "Setting `pad_token_id` to `eos_token_id`:50256 for open-end generation.\n"
     ]
    },
    {
     "name": "stdout",
     "output_type": "stream",
     "text": [
      "\n",
      "° Generated text (temperature = 0.2):\n",
      "Some of my favorite albums are Kid A, Dark Side of the Moon, The Age of Adz, Highway 61 Revisited, and The Last Man on Earth. I'm not sure if I'm going to be able to get through all of them all, but I'm sure I'll be able to get through them all.\n",
      "\n",
      "I'm not sure if I'm\n"
     ]
    },
    {
     "name": "stderr",
     "output_type": "stream",
     "text": [
      "The attention mask and the pad token id were not set. As a consequence, you may observe unexpected behavior. Please pass your input's `attention_mask` to obtain reliable results.\n",
      "Setting `pad_token_id` to `eos_token_id`:50256 for open-end generation.\n"
     ]
    },
    {
     "name": "stdout",
     "output_type": "stream",
     "text": [
      "\n",
      "° Generated text (temperature = 0.30000000000000004):\n",
      "Some of my favorite albums are Kid A, Dark Side of the Moon, The Age of Adz, Highway 61 Revisited, and The Great Escape.\n",
      "\n",
      "I'm not sure if I'm going to be able to get through all of them, but I'm sure I'll be able to get through the rest of them.\n",
      "\n",
      "I've been reading a lot\n"
     ]
    },
    {
     "name": "stderr",
     "output_type": "stream",
     "text": [
      "The attention mask and the pad token id were not set. As a consequence, you may observe unexpected behavior. Please pass your input's `attention_mask` to obtain reliable results.\n",
      "Setting `pad_token_id` to `eos_token_id`:50256 for open-end generation.\n"
     ]
    },
    {
     "name": "stdout",
     "output_type": "stream",
     "text": [
      "\n",
      "° Generated text (temperature = 0.4):\n",
      "Some of my favorite albums are Kid A, Dark Side of the Moon, The Age of Adz, Highway 61 Revisited and I'm Not A Celebrity. I've been listening to them for years and I'm not sure what to say.\n",
      "\n",
      "I've been listening to them for years and I'm not sure what to say.\n",
      "\n",
      "I'm not a celebrity\n"
     ]
    },
    {
     "name": "stderr",
     "output_type": "stream",
     "text": [
      "The attention mask and the pad token id were not set. As a consequence, you may observe unexpected behavior. Please pass your input's `attention_mask` to obtain reliable results.\n",
      "Setting `pad_token_id` to `eos_token_id`:50256 for open-end generation.\n"
     ]
    },
    {
     "name": "stdout",
     "output_type": "stream",
     "text": [
      "\n",
      "° Generated text (temperature = 0.5):\n",
      "Some of my favorite albums are Kid A, Dark Side of the Moon, The Age of Adz, Highway 61 Revisited, and the album's title track.\n",
      "\n",
      "I also have a very large collection of albums that I've written, but I'm not a fan of the genre. I think the genre is too much of a mess for me to write a book\n"
     ]
    },
    {
     "name": "stderr",
     "output_type": "stream",
     "text": [
      "The attention mask and the pad token id were not set. As a consequence, you may observe unexpected behavior. Please pass your input's `attention_mask` to obtain reliable results.\n",
      "Setting `pad_token_id` to `eos_token_id`:50256 for open-end generation.\n"
     ]
    },
    {
     "name": "stdout",
     "output_type": "stream",
     "text": [
      "\n",
      "° Generated text (temperature = 0.6):\n",
      "Some of my favorite albums are Kid A, Dark Side of the Moon, The Age of Adz, Highway 61 Revisited, and the underrated, but still a lot of fun, track \"Blackout.\"\n",
      "\n",
      "In the meantime, I'm writing a blog post about this album that you can read here, but I'm also making a special post about this album to\n"
     ]
    },
    {
     "name": "stderr",
     "output_type": "stream",
     "text": [
      "The attention mask and the pad token id were not set. As a consequence, you may observe unexpected behavior. Please pass your input's `attention_mask` to obtain reliable results.\n",
      "Setting `pad_token_id` to `eos_token_id`:50256 for open-end generation.\n"
     ]
    },
    {
     "name": "stdout",
     "output_type": "stream",
     "text": [
      "\n",
      "° Generated text (temperature = 0.7000000000000001):\n",
      "Some of my favorite albums are Kid A, Dark Side of the Moon, The Age of Adz, Highway 61 Revisited, and The Beatles.\n",
      "\n",
      "I was also an avid collector of Bob Dylan and Tom Petty. I have to admit that I had a lot of fun with Bob and the band during their early years. Bob's music was so unique and so beautiful\n"
     ]
    },
    {
     "name": "stderr",
     "output_type": "stream",
     "text": [
      "The attention mask and the pad token id were not set. As a consequence, you may observe unexpected behavior. Please pass your input's `attention_mask` to obtain reliable results.\n",
      "Setting `pad_token_id` to `eos_token_id`:50256 for open-end generation.\n"
     ]
    },
    {
     "name": "stdout",
     "output_type": "stream",
     "text": [
      "\n",
      "° Generated text (temperature = 0.8):\n",
      "Some of my favorite albums are Kid A, Dark Side of the Moon, The Age of Adz, Highway 61 Revisited, and the last album is The Last Wish, which I love.\n",
      "\n",
      "\n",
      "I also like the album title, which I would've thought was a bit more of a homage to the album titles of other albums. If you've ever listened to the\n"
     ]
    },
    {
     "name": "stderr",
     "output_type": "stream",
     "text": [
      "The attention mask and the pad token id were not set. As a consequence, you may observe unexpected behavior. Please pass your input's `attention_mask` to obtain reliable results.\n",
      "Setting `pad_token_id` to `eos_token_id`:50256 for open-end generation.\n"
     ]
    },
    {
     "name": "stdout",
     "output_type": "stream",
     "text": [
      "\n",
      "° Generated text (temperature = 0.9):\n",
      "Some of my favorite albums are Kid A, Dark Side of the Moon, The Age of Adz, Highway 61 Revisited and much more. My favorite songs of all time are The Music Never Stopped and I Love You, Don't Let My Friends Down (with all the great songs I have), The World Is Not Enough and even The Best of John Cale.\n",
      "\n",
      "° Generated text (temperature = 1.0):\n",
      "Some of my favorite albums are Kid A, Dark Side of the Moon, The Age of Adz, Highway 61 Revisited, and many others. My second favorite is my own personal favorite and the best I can share with you is this (on my YouTube channel, at least):\n",
      "\n",
      "The first year my mother came to town was quite a while ago, and I\n"
     ]
    }
   ],
   "source": [
    "T = np.arange(0.1, 1.1, 0.1)\n",
    "context = tokenizer(\"Some of my favorite albums are Kid A, Dark Side of the Moon, The Age of Adz, Highway 61 Revisited\", return_tensors=\"pt\")[\"input_ids\"].to(DEVICE)\n",
    "for t in T:\n",
    "    outputs = model.generate(context, max_new_tokens=50, do_sample=True, top_k=50, temperature=t, top_p=0.95)\n",
    "    print(f\"\\n° Generated text (temperature = {t}):\")\n",
    "    print(f\"{tokenizer.decode(outputs[0])}\")"
   ]
  },
  {
   "cell_type": "markdown",
   "id": "c5ac6419",
   "metadata": {},
   "source": [
    "As we can see with the growth of the temperature the likelihood of getting repetead phrases decrease, while it seems to be a in increase of the coherence to the topic even though once reached T=1, the model starts adding nonsense"
   ]
  },
  {
   "cell_type": "markdown",
   "id": "9aef4ef7",
   "metadata": {},
   "source": [
    "# Exercise 3.1"
   ]
  },
  {
   "cell_type": "code",
   "execution_count": 2,
   "id": "6792acdf",
   "metadata": {},
   "outputs": [],
   "source": [
    "import torch\n",
    "import torch.nn as nn\n",
    "import torch.nn.functional as F\n",
    "\n",
    "from datasets import load_dataset\n",
    "from torch.utils.data import DataLoader\n",
    "from transformers import GPT2Tokenizer"
   ]
  },
  {
   "cell_type": "markdown",
   "id": "ca1f03a3",
   "metadata": {},
   "source": [
    "The code works with both imdb and rotten tomatoes datasets, just change the string below"
   ]
  },
  {
   "cell_type": "code",
   "execution_count": 3,
   "id": "adbb61db",
   "metadata": {},
   "outputs": [],
   "source": [
    "DATASET_STR = 'rotten_tomatoes' # 'rotten_tomatoes'\n",
    "EPOCHS = 20\n",
    "BATCH_SIZE = 32\n",
    "LEARNING_RATE = 1e-4\n",
    "TOKEN_LENGTH = 512\n",
    "DEVICE = 'cuda' if torch.cuda.is_available() else 'cpu'"
   ]
  },
  {
   "cell_type": "code",
   "execution_count": 4,
   "id": "3d85e4ef",
   "metadata": {},
   "outputs": [],
   "source": [
    "dataset_path = 'stanfordnlp/imdb' if DATASET_STR == 'imdb' else 'cornell-movie-review-data/rotten_tomatoes'\n",
    "dataset = load_dataset(dataset_path)\n",
    "ds_train = dataset[\"train\"]\n",
    "ds_test = dataset[\"test\"]\n",
    "if DATASET_STR == 'rotten_tomatoes':\n",
    "    ds_val = dataset[\"validation\"]"
   ]
  },
  {
   "cell_type": "code",
   "execution_count": 5,
   "id": "2906275c",
   "metadata": {},
   "outputs": [
    {
     "name": "stdout",
     "output_type": "stream",
     "text": [
      "Number of positive samples: 4265\n",
      "Number of negative samples: 4265\n",
      "\n",
      "Positive example:\n",
      "Text: the rock is destined to be the 21st century's new \" conan \" and that he's going to make a splash even greater than arnold schwarzenegger , jean-claud van damme or steven segal .\n",
      "Label: 1\n",
      "\n",
      "Negative example:\n",
      "Text: simplistic , silly and tedious .\n",
      "Label: 0\n"
     ]
    }
   ],
   "source": [
    "positive_samples = ds_train.filter(lambda x: x[\"label\"] == 1)\n",
    "negative_samples = ds_train.filter(lambda x: x[\"label\"] == 0)\n",
    "print(f\"Number of positive samples: {len(positive_samples)}\")\n",
    "print(f\"Number of negative samples: {len(negative_samples)}\\n\")\n",
    "\n",
    "print(f\"Positive example:\")\n",
    "print(f\"Text: {positive_samples[0]['text']}\")\n",
    "print(f\"Label: {positive_samples[0]['label']}\\n\")\n",
    "\n",
    "print(f\"Negative example:\")\n",
    "print(f\"Text: {negative_samples[0]['text']}\")\n",
    "print(f\"Label: {negative_samples[0]['label']}\")"
   ]
  },
  {
   "cell_type": "markdown",
   "id": "7d5b97f0",
   "metadata": {},
   "source": [
    "### My Training Pipeline"
   ]
  },
  {
   "cell_type": "code",
   "execution_count": 6,
   "id": "a82a396b",
   "metadata": {},
   "outputs": [],
   "source": [
    "class ClassificationDataset(torch.utils.data.Dataset):\n",
    "    def __init__(self, tokenized_dataset):\n",
    "        self.input_ids = torch.tensor(tokenized_dataset['text'])\n",
    "        self.labels = torch.tensor(tokenized_dataset['label'])\n",
    "\n",
    "    def __len__(self):\n",
    "        return len(self.input_ids)\n",
    "\n",
    "    def __getitem__(self, idx):\n",
    "        return self.input_ids[idx], self.labels[idx]"
   ]
  },
  {
   "cell_type": "markdown",
   "id": "7cfd6593",
   "metadata": {},
   "source": [
    "To get the advantages of parallelization we need to stack batch of sample every with the same length, of course reviews does not guarantee such constraint (and tokenization too) so the idea I applied was to add a padding token to every phrase in order to be as long as the longest one"
   ]
  },
  {
   "cell_type": "code",
   "execution_count": 7,
   "id": "9a8c56ae",
   "metadata": {},
   "outputs": [],
   "source": [
    "def tokenize(tokenizer, data, token_len):\n",
    "    tokenizer.pad_token = tokenizer.eos_token\n",
    "    tokenized = tokenizer(data['text'], truncation=True, padding='max_length', max_length=token_len, return_tensors=\"pt\")[\"input_ids\"]\n",
    "    return {'text': tokenized, 'label': data['label']}\n",
    "\n",
    "def tokenized_dataset(dataset, tokenizer, token_len):\n",
    "    ds_tokenized = dataset.map(lambda x: tokenize(tokenizer, x, token_len), batched=True)\n",
    "    return ClassificationDataset(ds_tokenized)\n"
   ]
  },
  {
   "cell_type": "code",
   "execution_count": 8,
   "id": "4dad2dc9",
   "metadata": {},
   "outputs": [
    {
     "data": {
      "application/vnd.jupyter.widget-view+json": {
       "model_id": "a8b6e6566441410da362f274685f0056",
       "version_major": 2,
       "version_minor": 0
      },
      "text/plain": [
       "Map:   0%|          | 0/1066 [00:00<?, ? examples/s]"
      ]
     },
     "metadata": {},
     "output_type": "display_data"
    }
   ],
   "source": [
    "tokenizer = GPT2Tokenizer.from_pretrained(\"openai-community/gpt2\")\n",
    "ds_tokenized_train = tokenized_dataset(ds_train, tokenizer, TOKEN_LENGTH)\n",
    "ds_tokenized_test = tokenized_dataset(ds_test, tokenizer, TOKEN_LENGTH)\n",
    "if DATASET_STR == 'rotten_tomatoes':\n",
    "    ds_tokenized_val = tokenized_dataset(ds_val, tokenizer, TOKEN_LENGTH)"
   ]
  },
  {
   "cell_type": "code",
   "execution_count": 9,
   "id": "7ae8a12c",
   "metadata": {},
   "outputs": [
    {
     "name": "stdout",
     "output_type": "stream",
     "text": [
      "torch.Size([32, 512])\n",
      "torch.Size([32])\n"
     ]
    }
   ],
   "source": [
    "dl_train = DataLoader(\n",
    "    ds_tokenized_train,\n",
    "    batch_size=BATCH_SIZE,\n",
    "    shuffle=True,\n",
    ")\n",
    "dl_test = DataLoader(\n",
    "    ds_tokenized_test,\n",
    "    batch_size=BATCH_SIZE,\n",
    "    shuffle=False,\n",
    ")\n",
    "if DATASET_STR == 'rotten_tomatoes':\n",
    "    dl_val = DataLoader(\n",
    "        ds_tokenized_val,\n",
    "        batch_size=BATCH_SIZE,\n",
    "        shuffle=True,\n",
    "    )\n",
    "\n",
    "for (x, y) in dl_train:\n",
    "    print(x.shape)\n",
    "    print(y.shape)\n",
    "    break"
   ]
  },
  {
   "cell_type": "code",
   "execution_count": 10,
   "id": "80a75491",
   "metadata": {},
   "outputs": [],
   "source": [
    "class LinearLayer(nn.Module):\n",
    "    def __init__(self, n_embd, dropout=0.2):\n",
    "        super().__init__()\n",
    "        self.lin = nn.Linear(n_embd, n_embd)\n",
    "        self.dropout = nn.Dropout(dropout)\n",
    "        self.relu = nn.ReLU()\n",
    "\n",
    "    def forward(self, x):\n",
    "        logits = self.lin(x)\n",
    "        logits = self.dropout(logits)\n",
    "        logits = self.relu(logits)\n",
    "        return logits \n",
    "\n",
    "class TextClassificationLinear(nn.Module):\n",
    "    def __init__(self, token_length, n_embd, head_dim, depth=2, dropout=0.2):\n",
    "        super().__init__()\n",
    "        self.init_layer = nn.Sequential(\n",
    "            nn.Linear(token_length, n_embd),\n",
    "            nn.ReLU(),\n",
    "            nn.Dropout(dropout)\n",
    "        )\n",
    "        self.lin_layers = nn.ModuleList([LinearLayer(n_embd) for _ in range(depth)])\n",
    "        self.head = nn.Linear(n_embd, head_dim)\n",
    "\n",
    "    def forward(self, x):\n",
    "        logits = self.init_layer(x)\n",
    "        for i, layer in enumerate(self.lin_layers):\n",
    "            logits_skip = logits\n",
    "            logits = layer(logits)\n",
    "            if i % 2 == 0:\n",
    "                logits = logits + logits_skip\n",
    "        logits = self.head(logits)\n",
    "        return logits"
   ]
  },
  {
   "cell_type": "code",
   "execution_count": 45,
   "id": "e6714f4e",
   "metadata": {},
   "outputs": [],
   "source": [
    "loss_fn = torch.nn.BCEWithLogitsLoss() \n",
    "head_dim = 2 if isinstance(loss_fn, torch.nn.CrossEntropyLoss) else 1\n",
    "check = 2\n",
    "model = TextClassificationLinear(\n",
    "    token_length=TOKEN_LENGTH,\n",
    "    n_embd=768,\n",
    "    head_dim=head_dim,\n",
    "    depth=5,\n",
    "    dropout=0.2\n",
    ").to(DEVICE)\n",
    "opt = torch.optim.Adam(model.parameters(), lr=LEARNING_RATE)"
   ]
  },
  {
   "cell_type": "code",
   "execution_count": 34,
   "id": "16751e22",
   "metadata": {},
   "outputs": [],
   "source": [
    "class ConvLayer(nn.Module):\n",
    "    def __init__(self, in_channel, out_channel, dropout=0.2, pool=False):\n",
    "        super().__init__()\n",
    "        self.conv = nn.Conv1d(in_channel, out_channel, kernel_size=3, padding=1)\n",
    "        self.in_channel = in_channel\n",
    "        self.out_channel = out_channel\n",
    "        self.dropout = nn.Dropout(dropout)\n",
    "        self.relu = nn.ReLU()\n",
    "        self.pool = pool\n",
    "\n",
    "    def forward(self, x):\n",
    "        logits = self.conv(x)\n",
    "        logits = self.dropout(logits)\n",
    "        logits = self.relu(logits)\n",
    "        return F.max_pool1d(logits, kernel_size=2, stride=2) if self.pool else logits\n",
    "\n",
    "class ConvBlock(nn.Module):\n",
    "    def __init__(self, in_channel, out_channel, depth, dropout=0.2):\n",
    "        super().__init__()\n",
    "        self.init_conv = ConvLayer(in_channel, out_channel, dropout, pool=True)\n",
    "        self.block = nn.ModuleList([ConvLayer(out_channel, out_channel, dropout) for _ in range(depth - 1)])\n",
    "\n",
    "    def forward(self, x):\n",
    "        logits = x\n",
    "        logits = self.init_conv(logits)\n",
    "        for i, layer in enumerate(self.block):\n",
    "            logits_skip = logits\n",
    "            logits = layer(logits)\n",
    "            if i % 2 == 0:\n",
    "                logits = logits + logits_skip\n",
    "        return logits\n",
    "\n",
    "class TextClassificationConv(nn.Module):\n",
    "    def __init__(self, channels, depth, dropout=0.2):\n",
    "        super().__init__()\n",
    "        self.blocks = nn.ModuleList([ConvBlock(channels[i], channels[i+1], depth, dropout) for i in range(len(channels)-1)])\n",
    "        self.head = nn.AdaptiveAvgPool1d(1)\n",
    "\n",
    "    def forward(self, x):\n",
    "        logits = x\n",
    "        for block in self.blocks:\n",
    "            logits = block(logits)\n",
    "        logits = self.head(logits)\n",
    "        return logits"
   ]
  },
  {
   "cell_type": "code",
   "execution_count": 37,
   "id": "df911544",
   "metadata": {},
   "outputs": [],
   "source": [
    "loss_fn = torch.nn.BCEWithLogitsLoss()\n",
    "check = 2\n",
    "channels = [1, 64, 128, 256, 512, 1]\n",
    "model = TextClassificationConv(\n",
    "    channels=channels,\n",
    "    depth=5,\n",
    "    dropout=0.2\n",
    ").to(DEVICE)\n",
    "opt = torch.optim.Adam(model.parameters(), lr=LEARNING_RATE)"
   ]
  },
  {
   "cell_type": "code",
   "execution_count": 40,
   "id": "561b8bcf",
   "metadata": {},
   "outputs": [
    {
     "name": "stdout",
     "output_type": "stream",
     "text": [
      "Epoch 2/20 Train Loss: 0.6931 Accuracy: 0.5000\n",
      "Validation Loss: 0.6931 Accuracy: 0.4980\n",
      "\n",
      "Epoch 4/20 Train Loss: 0.6931 Accuracy: 0.4999\n",
      "Validation Loss: 0.6931 Accuracy: 0.5000\n",
      "\n",
      "Epoch 6/20 Train Loss: 0.6931 Accuracy: 0.5001\n",
      "Validation Loss: 0.6931 Accuracy: 0.5040\n",
      "\n",
      "Epoch 8/20 Train Loss: 0.6931 Accuracy: 0.5000\n",
      "Validation Loss: 0.6931 Accuracy: 0.4960\n",
      "\n",
      "Epoch 10/20 Train Loss: 0.6931 Accuracy: 0.4999\n",
      "Validation Loss: 0.6931 Accuracy: 0.4960\n",
      "\n",
      "Epoch 12/20 Train Loss: 0.6931 Accuracy: 0.5001\n",
      "Validation Loss: 0.6931 Accuracy: 0.5040\n",
      "\n",
      "Epoch 14/20 Train Loss: 0.6931 Accuracy: 0.5001\n",
      "Validation Loss: 0.6931 Accuracy: 0.5020\n",
      "\n",
      "Epoch 16/20 Train Loss: 0.6931 Accuracy: 0.5001\n",
      "Validation Loss: 0.6931 Accuracy: 0.5000\n",
      "\n",
      "Epoch 18/20 Train Loss: 0.6931 Accuracy: 0.5001\n",
      "Validation Loss: 0.6931 Accuracy: 0.4980\n",
      "\n",
      "Epoch 20/20 Train Loss: 0.6931 Accuracy: 0.4999\n",
      "Validation Loss: 0.6931 Accuracy: 0.5000\n",
      "\n"
     ]
    }
   ],
   "source": [
    "for epoch in range(EPOCHS):\n",
    "    model.train()\n",
    "    loss_epoch = 0\n",
    "    acc = 0\n",
    "    for (x, y) in dl_train:\n",
    "        x = x.to(torch.float).to(DEVICE) if isinstance(model, TextClassificationLinear) else x.to(torch.float).to(DEVICE).unsqueeze(1)\n",
    "        y = y.to(torch.long).to(DEVICE) if isinstance(loss_fn, nn.CrossEntropyLoss) else y.to(torch.float).to(DEVICE)\n",
    "        logits = model(x) if isinstance(loss_fn, nn.CrossEntropyLoss) else model(x).flatten()\n",
    "        loss = loss_fn(logits, y)\n",
    "        opt.zero_grad()\n",
    "        loss.backward()\n",
    "        opt.step()\n",
    "        loss_epoch += loss.item()\n",
    "        preds = torch.round(F.sigmoid(logits)) if isinstance(loss_fn, nn.BCEWithLogitsLoss) else torch.argmax(logits, dim=1)\n",
    "        acc += torch.sum(preds == y).item() / len(y)\n",
    "    loss_epoch /= len(dl_train)\n",
    "    acc /= len(dl_train)\n",
    "    \n",
    "    if (epoch+1) % check == 0:\n",
    "        print(f\"Epoch {epoch+1}/{EPOCHS} Train Loss: {loss_epoch:.4f} Accuracy: {acc:.4f}\")\n",
    "        if DATASET_STR == 'rotten_tomatoes':\n",
    "            with torch.no_grad():\n",
    "                loss_val = 0\n",
    "                acc_val = 0\n",
    "                model.eval()\n",
    "                for (x, y) in dl_val:\n",
    "                    x = x.to(torch.float).to(DEVICE) if isinstance(model, TextClassificationLinear) else x.to(torch.float).to(DEVICE).unsqueeze(1)\n",
    "                    y = y.to(torch.long).to(DEVICE) if isinstance(loss_fn, nn.CrossEntropyLoss) else y.to(torch.float).to(DEVICE)\n",
    "                    logits = model(x) if isinstance(loss_fn, nn.CrossEntropyLoss) else model(x).flatten()\n",
    "                    preds = torch.round(F.sigmoid(logits)) if isinstance(loss_fn, nn.BCEWithLogitsLoss) else torch.argmax(logits, dim=1)\n",
    "                    acc_val += torch.sum(preds == y).item() / len(y)\n",
    "                    loss = loss_fn(logits, y)\n",
    "                    loss_val += loss.item()\n",
    "                loss_val /= len(dl_val)\n",
    "                acc_val /= len(dl_val)\n",
    "                print(f\"Validation Loss: {loss_val:.4f} Accuracy: {acc_val:.4f}\")\n",
    "                print(\"\")\n",
    "model_str = \"conv\" if isinstance(model, TextClassificationConv) else \"linear\"\n",
    "torch.save(model.state_dict(), f\"text_classification_{model_str}_{DATASET_STR}.pth\")"
   ]
  },
  {
   "cell_type": "code",
   "execution_count": 41,
   "id": "70a8f2ce",
   "metadata": {},
   "outputs": [
    {
     "name": "stdout",
     "output_type": "stream",
     "text": [
      "Test Loss: 0.6931 Accuracy: 0.5101\n",
      "Number of samples predicted correct: 533\n",
      "Number of samples predicted incorrect: 533\n"
     ]
    }
   ],
   "source": [
    "with torch.no_grad():\n",
    "    model.eval()\n",
    "    loss_test = 0\n",
    "    acc_test = 0\n",
    "    inference = {'correct': 0, 'incorrect': 0}\n",
    "    for (x, y) in dl_test:\n",
    "        x = x.to(torch.float).to(DEVICE) if isinstance(model, TextClassificationLinear) else x.to(torch.float).to(DEVICE).unsqueeze(1)\n",
    "        y = y.to(torch.long).to(DEVICE) if isinstance(loss_fn, nn.CrossEntropyLoss) else y.to(torch.float).to(DEVICE)\n",
    "        logits = model(x) if isinstance(loss_fn, nn.CrossEntropyLoss) else model(x).flatten()\n",
    "        preds = torch.round(F.sigmoid(logits)) if isinstance(loss_fn, nn.BCEWithLogitsLoss) else torch.argmax(logits, dim=1)\n",
    "        acc_test += torch.sum(preds == y).item()/ len(y)\n",
    "        loss = loss_fn(logits, y)\n",
    "        loss_test += loss.item()\n",
    "        inference['correct'] += torch.sum(preds == y).item()\n",
    "        inference['incorrect'] += torch.sum(preds != y).item()\n",
    "    loss_test /= len(dl_test)\n",
    "    acc_test /= len(dl_test)\n",
    "    print(f\"Test Loss: {loss_test:.4f} Accuracy: {acc_test:.4f}\")\n",
    "    print(f\"Number of samples predicted correct: {inference['correct']}\")\n",
    "    print(f\"Number of samples predicted incorrect: {inference['incorrect']}\")"
   ]
  },
  {
   "cell_type": "markdown",
   "id": "7e418dee",
   "metadata": {},
   "source": [
    "Sadly with both a linear and convolutional model I was not able to reach good performance, there are three main reasons: \n",
    "\n",
    "First is that the input distribution is not easy to learn the space of reviews contains lots of concepts a network should learn in order to be able to understand its content\n",
    "\n",
    "Second the padding is too much, this way I have lots (the majority) of samples made of padding tokens, these kind of samples does not carry enough information \n",
    "\n",
    "Third the model is too small or its architecture is too much simple to capture the underlying knowledge of the dataset"
   ]
  },
  {
   "cell_type": "markdown",
   "id": "af761e06",
   "metadata": {},
   "source": [
    "### Hugging Face Pipeline"
   ]
  },
  {
   "cell_type": "markdown",
   "id": "802731db",
   "metadata": {},
   "source": [
    "Hugging Face provides a framework to work with pretrained models and with lots of smart ideas like the DataCollator, a class with the purpose of dynamically pad or truncate during the fine tuning.\n",
    "\n",
    "Hugging Face provides a method to perform the finetuning a in easy way, giving the corresponding control parameters"
   ]
  },
  {
   "cell_type": "code",
   "execution_count": 1,
   "id": "d5532c90",
   "metadata": {},
   "outputs": [],
   "source": [
    "import torch\n",
    "from transformers import DataCollatorWithPadding, pipeline, Trainer, TrainingArguments, AutoModelForSequenceClassification, AutoTokenizer\n",
    "from datasets import load_dataset\n",
    "import evaluate\n",
    "import numpy as np"
   ]
  },
  {
   "cell_type": "code",
   "execution_count": 2,
   "id": "3a34e912",
   "metadata": {},
   "outputs": [],
   "source": [
    "DATASET_STR = 'imdb' # 'rotten_tomatoes'\n",
    "EPOCHS = 10\n",
    "BATCH_SIZE = 32\n",
    "LEARNING_RATE = 1e-4\n",
    "DEVICE = 'cuda' if torch.cuda.is_available() else 'cpu'"
   ]
  },
  {
   "cell_type": "code",
   "execution_count": 3,
   "id": "e39038e9",
   "metadata": {},
   "outputs": [],
   "source": [
    "dataset_path = 'stanfordnlp/imdb' if DATASET_STR == 'imdb' else 'cornell-movie-review-data/rotten_tomatoes'\n",
    "tokenizer = AutoTokenizer.from_pretrained(\"distilbert/distilbert-base-uncased\")"
   ]
  },
  {
   "cell_type": "code",
   "execution_count": 4,
   "id": "e40abe41",
   "metadata": {},
   "outputs": [],
   "source": [
    "def preprocess_text(data):\n",
    "    return tokenizer(data['text'], truncation=True)"
   ]
  },
  {
   "cell_type": "code",
   "execution_count": 5,
   "id": "35145447",
   "metadata": {},
   "outputs": [],
   "source": [
    "dataset = load_dataset(dataset_path)\n",
    "tokenized_dataset = dataset.map(preprocess_text, batched=True)"
   ]
  },
  {
   "cell_type": "code",
   "execution_count": 6,
   "id": "589d6e14",
   "metadata": {},
   "outputs": [],
   "source": [
    "data_collator = DataCollatorWithPadding(tokenizer=tokenizer, return_tensors=\"pt\")\n",
    "metric = evaluate.load(\"accuracy\")"
   ]
  },
  {
   "cell_type": "code",
   "execution_count": 7,
   "id": "2e925fbc",
   "metadata": {},
   "outputs": [],
   "source": [
    "def compute_metrics(eval_pred):\n",
    "    predictions, labels = eval_pred\n",
    "    predictions = np.argmax(predictions, axis=1)\n",
    "    return metric.compute(predictions=predictions, references=labels)"
   ]
  },
  {
   "cell_type": "code",
   "execution_count": 8,
   "id": "a97de99d",
   "metadata": {},
   "outputs": [],
   "source": [
    "id2label = {0: \"NEGATIVE\", 1: \"POSITIVE\"}\n",
    "label2id = {\"NEGATIVE\": 0, \"POSITIVE\": 1}"
   ]
  },
  {
   "cell_type": "code",
   "execution_count": 9,
   "id": "88c91b5b",
   "metadata": {},
   "outputs": [
    {
     "name": "stderr",
     "output_type": "stream",
     "text": [
      "Some weights of DistilBertForSequenceClassification were not initialized from the model checkpoint at distilbert/distilbert-base-uncased and are newly initialized: ['classifier.bias', 'classifier.weight', 'pre_classifier.bias', 'pre_classifier.weight']\n",
      "You should probably TRAIN this model on a down-stream task to be able to use it for predictions and inference.\n"
     ]
    }
   ],
   "source": [
    "model = AutoModelForSequenceClassification.from_pretrained(\n",
    "    \"distilbert/distilbert-base-uncased\", num_labels=2, id2label=id2label, label2id=label2id\n",
    ")"
   ]
  },
  {
   "cell_type": "code",
   "execution_count": 10,
   "id": "f102d455",
   "metadata": {},
   "outputs": [
    {
     "name": "stdout",
     "output_type": "stream",
     "text": [
      "Text: I rented I AM CURIOUS-YELLOW from my video store because of all the controversy that surrounded it when it was first released in 1967. I also heard that at first it was seized by U.S. customs if it ever tried to enter this country, therefore being a fan of films considered \"controversial\" I really had to see this for myself.<br /><br />The plot is centered around a young Swedish drama student named Lena who wants to learn everything she can about life. In particular she wants to focus her attentions to making some sort of documentary on what the average Swede thought about certain political issues such as the Vietnam War and race issues in the United States. In between asking politicians and ordinary denizens of Stockholm about their opinions on politics, she has sex with her drama teacher, classmates, and married men.<br /><br />What kills me about I AM CURIOUS-YELLOW is that 40 years ago, this was considered pornographic. Really, the sex and nudity scenes are few and far between, even then it's not shot like some cheaply made porno. While my countrymen mind find it shocking, in reality sex and nudity are a major staple in Swedish cinema. Even Ingmar Bergman, arguably their answer to good old boy John Ford, had sex scenes in his films.<br /><br />I do commend the filmmakers for the fact that any sex shown in the film is shown for artistic purposes rather than just to shock people and make money to be shown in pornographic theaters in America. I AM CURIOUS-YELLOW is a good film for anyone wanting to study the meat and potatoes (no pun intended) of Swedish cinema. But really, this film doesn't have much of a plot.\n",
      "Label: 0\n"
     ]
    }
   ],
   "source": [
    "ds_train = tokenized_dataset[\"train\"]\n",
    "\n",
    "for i in range(len(ds_train)):\n",
    "    print(f\"Text: {ds_train[i]['text']}\")\n",
    "    print(f\"Label: {ds_train[i]['label']}\")\n",
    "    break"
   ]
  },
  {
   "cell_type": "code",
   "execution_count": null,
   "id": "0ad18ca3",
   "metadata": {},
   "outputs": [],
   "source": [
    "training_args = TrainingArguments(\n",
    "    output_dir=f\"hf_model/model_{DATASET_STR}\",\n",
    "    learning_rate=2e-5,\n",
    "    per_device_train_batch_size=16,\n",
    "    per_device_eval_batch_size=16,\n",
    "    num_train_epochs=2,\n",
    "    weight_decay=0.01,\n",
    "    eval_strategy=\"epoch\",\n",
    "    save_strategy=\"epoch\",\n",
    "    load_best_model_at_end=True,\n",
    "    #use_cpu=True\n",
    ")\n",
    "\n",
    "trainer = Trainer(\n",
    "    model=model,\n",
    "    args=training_args,\n",
    "    train_dataset=tokenized_dataset[\"train\"],\n",
    "    eval_dataset=tokenized_dataset[\"test\"],\n",
    "    processing_class=tokenizer,\n",
    "    data_collator=data_collator,\n",
    "    compute_metrics=compute_metrics,\n",
    ")\n",
    "\n",
    "trainer.train()"
   ]
  },
  {
   "cell_type": "markdown",
   "id": "b4dbc394",
   "metadata": {},
   "source": [
    "I defined 4 category of test reviews: absolute positive, absolute negative, sarcastic positive, sarcastic negative\n",
    "\n",
    "The idea is that to predict the first two should be easier than the others, but if we are able to reach the correct classification for the sarcastic examples then we could infer that the model has learnt the context and has distilled the distribution knowledge"
   ]
  },
  {
   "cell_type": "code",
   "execution_count": 42,
   "id": "3cefb9ce",
   "metadata": {},
   "outputs": [],
   "source": [
    "inference_text_pos = \"This movie was great!\"\n",
    "inference_text_neg = \"This movie was terrible!\"\n",
    "inference_text_sarc1 = \"I hate the love story in this movie, but I love the action scenes!\"\n",
    "inference_text_sarc2 = \"I hate this movie as much as I love Lord of the Rings!\""
   ]
  },
  {
   "cell_type": "code",
   "execution_count": 43,
   "id": "c7d169b6",
   "metadata": {},
   "outputs": [],
   "source": [
    "checkpoint = 3126 if DATASET_STR == 'imdb' else 1068\n",
    "model_path = f\"hf_model/model_{DATASET_STR}/checkpoint-{checkpoint}\"\n",
    "\n",
    "tokenizer = AutoTokenizer.from_pretrained(model_path)\n",
    "model = AutoModelForSequenceClassification.from_pretrained(model_path)\n"
   ]
  },
  {
   "cell_type": "code",
   "execution_count": 45,
   "id": "3012010f",
   "metadata": {},
   "outputs": [
    {
     "name": "stderr",
     "output_type": "stream",
     "text": [
      "Device set to use cuda:0\n"
     ]
    },
    {
     "name": "stdout",
     "output_type": "stream",
     "text": [
      "[{'label': 'POSITIVE', 'score': 0.9959372282028198}]\n",
      "[{'label': 'NEGATIVE', 'score': 0.9936391711235046}]\n",
      "[{'label': 'POSITIVE', 'score': 0.9964547157287598}]\n",
      "[{'label': 'NEGATIVE', 'score': 0.6173900961875916}]\n"
     ]
    }
   ],
   "source": [
    "classifier = pipeline('sentiment-analysis', model=model, tokenizer=tokenizer)\n",
    "print(classifier(inference_text_pos))\n",
    "print(classifier(inference_text_neg))\n",
    "print(classifier(inference_text_sarc1))\n",
    "print(classifier(inference_text_sarc2))"
   ]
  },
  {
   "cell_type": "markdown",
   "id": "7d981123",
   "metadata": {},
   "source": [
    "As we can see the predictions are awesomes, the model has very high scores, the only peculiar fact is the prediction of the negative sarcastic review which has a much lower confidence, due to the dipendence of the review on a subjective topic: the liking of another movie, still the prediction is correct"
   ]
  }
 ],
 "metadata": {
  "kernelspec": {
   "display_name": ".venv",
   "language": "python",
   "name": "python3"
  },
  "language_info": {
   "codemirror_mode": {
    "name": "ipython",
    "version": 3
   },
   "file_extension": ".py",
   "mimetype": "text/x-python",
   "name": "python",
   "nbconvert_exporter": "python",
   "pygments_lexer": "ipython3",
   "version": "3.10.13"
  }
 },
 "nbformat": 4,
 "nbformat_minor": 5
}
